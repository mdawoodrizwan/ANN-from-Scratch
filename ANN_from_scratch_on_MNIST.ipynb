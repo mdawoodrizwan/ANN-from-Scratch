{
  "nbformat": 4,
  "nbformat_minor": 0,
  "metadata": {
    "colab": {
      "provenance": []
    },
    "kernelspec": {
      "name": "python3",
      "display_name": "Python 3"
    },
    "language_info": {
      "name": "python"
    }
  },
  "cells": [
    {
      "cell_type": "markdown",
      "source": [
        "### Name: **Muhammad Dawood Rizwan**\n",
        "###Dataset: **MNIST Digit Recognizer from Kaggel**"
      ],
      "metadata": {
        "id": "f8rVKOXODP3n"
      }
    },
    {
      "cell_type": "markdown",
      "source": [
        "### **ANN from scratch on MNIST Dataset**\n"
      ],
      "metadata": {
        "id": "YiFuxck-pjLU"
      }
    },
    {
      "cell_type": "code",
      "execution_count": 178,
      "metadata": {
        "id": "6HGSKScr1L3C"
      },
      "outputs": [],
      "source": [
        "# Import libraries\n",
        "\n",
        "import numpy as np\n",
        "import pandas as pd\n",
        "from matplotlib import pyplot as plt"
      ]
    },
    {
      "cell_type": "code",
      "source": [
        "#Load Dataset\n",
        "data = pd.read_csv(\"/content/train.csv\")"
      ],
      "metadata": {
        "id": "5jOkD-c7pwhs"
      },
      "execution_count": 151,
      "outputs": []
    },
    {
      "cell_type": "code",
      "source": [
        "data"
      ],
      "metadata": {
        "colab": {
          "base_uri": "https://localhost:8080/",
          "height": 444
        },
        "id": "k4Tbbhd2p7nn",
        "outputId": "98ed1be8-36b9-4d50-a297-53f2d4703c0c"
      },
      "execution_count": 152,
      "outputs": [
        {
          "output_type": "execute_result",
          "data": {
            "text/plain": [
              "       label  pixel0  pixel1  pixel2  pixel3  pixel4  pixel5  pixel6  pixel7  \\\n",
              "0          1       0       0       0       0       0       0       0       0   \n",
              "1          0       0       0       0       0       0       0       0       0   \n",
              "2          1       0       0       0       0       0       0       0       0   \n",
              "3          4       0       0       0       0       0       0       0       0   \n",
              "4          0       0       0       0       0       0       0       0       0   \n",
              "...      ...     ...     ...     ...     ...     ...     ...     ...     ...   \n",
              "41995      0       0       0       0       0       0       0       0       0   \n",
              "41996      1       0       0       0       0       0       0       0       0   \n",
              "41997      7       0       0       0       0       0       0       0       0   \n",
              "41998      6       0       0       0       0       0       0       0       0   \n",
              "41999      9       0       0       0       0       0       0       0       0   \n",
              "\n",
              "       pixel8  ...  pixel774  pixel775  pixel776  pixel777  pixel778  \\\n",
              "0           0  ...         0         0         0         0         0   \n",
              "1           0  ...         0         0         0         0         0   \n",
              "2           0  ...         0         0         0         0         0   \n",
              "3           0  ...         0         0         0         0         0   \n",
              "4           0  ...         0         0         0         0         0   \n",
              "...       ...  ...       ...       ...       ...       ...       ...   \n",
              "41995       0  ...         0         0         0         0         0   \n",
              "41996       0  ...         0         0         0         0         0   \n",
              "41997       0  ...         0         0         0         0         0   \n",
              "41998       0  ...         0         0         0         0         0   \n",
              "41999       0  ...         0         0         0         0         0   \n",
              "\n",
              "       pixel779  pixel780  pixel781  pixel782  pixel783  \n",
              "0             0         0         0         0         0  \n",
              "1             0         0         0         0         0  \n",
              "2             0         0         0         0         0  \n",
              "3             0         0         0         0         0  \n",
              "4             0         0         0         0         0  \n",
              "...         ...       ...       ...       ...       ...  \n",
              "41995         0         0         0         0         0  \n",
              "41996         0         0         0         0         0  \n",
              "41997         0         0         0         0         0  \n",
              "41998         0         0         0         0         0  \n",
              "41999         0         0         0         0         0  \n",
              "\n",
              "[42000 rows x 785 columns]"
            ],
            "text/html": [
              "\n",
              "  <div id=\"df-fccc7bcd-3e1d-4adf-9176-d7b8b4d39113\" class=\"colab-df-container\">\n",
              "    <div>\n",
              "<style scoped>\n",
              "    .dataframe tbody tr th:only-of-type {\n",
              "        vertical-align: middle;\n",
              "    }\n",
              "\n",
              "    .dataframe tbody tr th {\n",
              "        vertical-align: top;\n",
              "    }\n",
              "\n",
              "    .dataframe thead th {\n",
              "        text-align: right;\n",
              "    }\n",
              "</style>\n",
              "<table border=\"1\" class=\"dataframe\">\n",
              "  <thead>\n",
              "    <tr style=\"text-align: right;\">\n",
              "      <th></th>\n",
              "      <th>label</th>\n",
              "      <th>pixel0</th>\n",
              "      <th>pixel1</th>\n",
              "      <th>pixel2</th>\n",
              "      <th>pixel3</th>\n",
              "      <th>pixel4</th>\n",
              "      <th>pixel5</th>\n",
              "      <th>pixel6</th>\n",
              "      <th>pixel7</th>\n",
              "      <th>pixel8</th>\n",
              "      <th>...</th>\n",
              "      <th>pixel774</th>\n",
              "      <th>pixel775</th>\n",
              "      <th>pixel776</th>\n",
              "      <th>pixel777</th>\n",
              "      <th>pixel778</th>\n",
              "      <th>pixel779</th>\n",
              "      <th>pixel780</th>\n",
              "      <th>pixel781</th>\n",
              "      <th>pixel782</th>\n",
              "      <th>pixel783</th>\n",
              "    </tr>\n",
              "  </thead>\n",
              "  <tbody>\n",
              "    <tr>\n",
              "      <th>0</th>\n",
              "      <td>1</td>\n",
              "      <td>0</td>\n",
              "      <td>0</td>\n",
              "      <td>0</td>\n",
              "      <td>0</td>\n",
              "      <td>0</td>\n",
              "      <td>0</td>\n",
              "      <td>0</td>\n",
              "      <td>0</td>\n",
              "      <td>0</td>\n",
              "      <td>...</td>\n",
              "      <td>0</td>\n",
              "      <td>0</td>\n",
              "      <td>0</td>\n",
              "      <td>0</td>\n",
              "      <td>0</td>\n",
              "      <td>0</td>\n",
              "      <td>0</td>\n",
              "      <td>0</td>\n",
              "      <td>0</td>\n",
              "      <td>0</td>\n",
              "    </tr>\n",
              "    <tr>\n",
              "      <th>1</th>\n",
              "      <td>0</td>\n",
              "      <td>0</td>\n",
              "      <td>0</td>\n",
              "      <td>0</td>\n",
              "      <td>0</td>\n",
              "      <td>0</td>\n",
              "      <td>0</td>\n",
              "      <td>0</td>\n",
              "      <td>0</td>\n",
              "      <td>0</td>\n",
              "      <td>...</td>\n",
              "      <td>0</td>\n",
              "      <td>0</td>\n",
              "      <td>0</td>\n",
              "      <td>0</td>\n",
              "      <td>0</td>\n",
              "      <td>0</td>\n",
              "      <td>0</td>\n",
              "      <td>0</td>\n",
              "      <td>0</td>\n",
              "      <td>0</td>\n",
              "    </tr>\n",
              "    <tr>\n",
              "      <th>2</th>\n",
              "      <td>1</td>\n",
              "      <td>0</td>\n",
              "      <td>0</td>\n",
              "      <td>0</td>\n",
              "      <td>0</td>\n",
              "      <td>0</td>\n",
              "      <td>0</td>\n",
              "      <td>0</td>\n",
              "      <td>0</td>\n",
              "      <td>0</td>\n",
              "      <td>...</td>\n",
              "      <td>0</td>\n",
              "      <td>0</td>\n",
              "      <td>0</td>\n",
              "      <td>0</td>\n",
              "      <td>0</td>\n",
              "      <td>0</td>\n",
              "      <td>0</td>\n",
              "      <td>0</td>\n",
              "      <td>0</td>\n",
              "      <td>0</td>\n",
              "    </tr>\n",
              "    <tr>\n",
              "      <th>3</th>\n",
              "      <td>4</td>\n",
              "      <td>0</td>\n",
              "      <td>0</td>\n",
              "      <td>0</td>\n",
              "      <td>0</td>\n",
              "      <td>0</td>\n",
              "      <td>0</td>\n",
              "      <td>0</td>\n",
              "      <td>0</td>\n",
              "      <td>0</td>\n",
              "      <td>...</td>\n",
              "      <td>0</td>\n",
              "      <td>0</td>\n",
              "      <td>0</td>\n",
              "      <td>0</td>\n",
              "      <td>0</td>\n",
              "      <td>0</td>\n",
              "      <td>0</td>\n",
              "      <td>0</td>\n",
              "      <td>0</td>\n",
              "      <td>0</td>\n",
              "    </tr>\n",
              "    <tr>\n",
              "      <th>4</th>\n",
              "      <td>0</td>\n",
              "      <td>0</td>\n",
              "      <td>0</td>\n",
              "      <td>0</td>\n",
              "      <td>0</td>\n",
              "      <td>0</td>\n",
              "      <td>0</td>\n",
              "      <td>0</td>\n",
              "      <td>0</td>\n",
              "      <td>0</td>\n",
              "      <td>...</td>\n",
              "      <td>0</td>\n",
              "      <td>0</td>\n",
              "      <td>0</td>\n",
              "      <td>0</td>\n",
              "      <td>0</td>\n",
              "      <td>0</td>\n",
              "      <td>0</td>\n",
              "      <td>0</td>\n",
              "      <td>0</td>\n",
              "      <td>0</td>\n",
              "    </tr>\n",
              "    <tr>\n",
              "      <th>...</th>\n",
              "      <td>...</td>\n",
              "      <td>...</td>\n",
              "      <td>...</td>\n",
              "      <td>...</td>\n",
              "      <td>...</td>\n",
              "      <td>...</td>\n",
              "      <td>...</td>\n",
              "      <td>...</td>\n",
              "      <td>...</td>\n",
              "      <td>...</td>\n",
              "      <td>...</td>\n",
              "      <td>...</td>\n",
              "      <td>...</td>\n",
              "      <td>...</td>\n",
              "      <td>...</td>\n",
              "      <td>...</td>\n",
              "      <td>...</td>\n",
              "      <td>...</td>\n",
              "      <td>...</td>\n",
              "      <td>...</td>\n",
              "      <td>...</td>\n",
              "    </tr>\n",
              "    <tr>\n",
              "      <th>41995</th>\n",
              "      <td>0</td>\n",
              "      <td>0</td>\n",
              "      <td>0</td>\n",
              "      <td>0</td>\n",
              "      <td>0</td>\n",
              "      <td>0</td>\n",
              "      <td>0</td>\n",
              "      <td>0</td>\n",
              "      <td>0</td>\n",
              "      <td>0</td>\n",
              "      <td>...</td>\n",
              "      <td>0</td>\n",
              "      <td>0</td>\n",
              "      <td>0</td>\n",
              "      <td>0</td>\n",
              "      <td>0</td>\n",
              "      <td>0</td>\n",
              "      <td>0</td>\n",
              "      <td>0</td>\n",
              "      <td>0</td>\n",
              "      <td>0</td>\n",
              "    </tr>\n",
              "    <tr>\n",
              "      <th>41996</th>\n",
              "      <td>1</td>\n",
              "      <td>0</td>\n",
              "      <td>0</td>\n",
              "      <td>0</td>\n",
              "      <td>0</td>\n",
              "      <td>0</td>\n",
              "      <td>0</td>\n",
              "      <td>0</td>\n",
              "      <td>0</td>\n",
              "      <td>0</td>\n",
              "      <td>...</td>\n",
              "      <td>0</td>\n",
              "      <td>0</td>\n",
              "      <td>0</td>\n",
              "      <td>0</td>\n",
              "      <td>0</td>\n",
              "      <td>0</td>\n",
              "      <td>0</td>\n",
              "      <td>0</td>\n",
              "      <td>0</td>\n",
              "      <td>0</td>\n",
              "    </tr>\n",
              "    <tr>\n",
              "      <th>41997</th>\n",
              "      <td>7</td>\n",
              "      <td>0</td>\n",
              "      <td>0</td>\n",
              "      <td>0</td>\n",
              "      <td>0</td>\n",
              "      <td>0</td>\n",
              "      <td>0</td>\n",
              "      <td>0</td>\n",
              "      <td>0</td>\n",
              "      <td>0</td>\n",
              "      <td>...</td>\n",
              "      <td>0</td>\n",
              "      <td>0</td>\n",
              "      <td>0</td>\n",
              "      <td>0</td>\n",
              "      <td>0</td>\n",
              "      <td>0</td>\n",
              "      <td>0</td>\n",
              "      <td>0</td>\n",
              "      <td>0</td>\n",
              "      <td>0</td>\n",
              "    </tr>\n",
              "    <tr>\n",
              "      <th>41998</th>\n",
              "      <td>6</td>\n",
              "      <td>0</td>\n",
              "      <td>0</td>\n",
              "      <td>0</td>\n",
              "      <td>0</td>\n",
              "      <td>0</td>\n",
              "      <td>0</td>\n",
              "      <td>0</td>\n",
              "      <td>0</td>\n",
              "      <td>0</td>\n",
              "      <td>...</td>\n",
              "      <td>0</td>\n",
              "      <td>0</td>\n",
              "      <td>0</td>\n",
              "      <td>0</td>\n",
              "      <td>0</td>\n",
              "      <td>0</td>\n",
              "      <td>0</td>\n",
              "      <td>0</td>\n",
              "      <td>0</td>\n",
              "      <td>0</td>\n",
              "    </tr>\n",
              "    <tr>\n",
              "      <th>41999</th>\n",
              "      <td>9</td>\n",
              "      <td>0</td>\n",
              "      <td>0</td>\n",
              "      <td>0</td>\n",
              "      <td>0</td>\n",
              "      <td>0</td>\n",
              "      <td>0</td>\n",
              "      <td>0</td>\n",
              "      <td>0</td>\n",
              "      <td>0</td>\n",
              "      <td>...</td>\n",
              "      <td>0</td>\n",
              "      <td>0</td>\n",
              "      <td>0</td>\n",
              "      <td>0</td>\n",
              "      <td>0</td>\n",
              "      <td>0</td>\n",
              "      <td>0</td>\n",
              "      <td>0</td>\n",
              "      <td>0</td>\n",
              "      <td>0</td>\n",
              "    </tr>\n",
              "  </tbody>\n",
              "</table>\n",
              "<p>42000 rows × 785 columns</p>\n",
              "</div>\n",
              "    <div class=\"colab-df-buttons\">\n",
              "\n",
              "  <div class=\"colab-df-container\">\n",
              "    <button class=\"colab-df-convert\" onclick=\"convertToInteractive('df-fccc7bcd-3e1d-4adf-9176-d7b8b4d39113')\"\n",
              "            title=\"Convert this dataframe to an interactive table.\"\n",
              "            style=\"display:none;\">\n",
              "\n",
              "  <svg xmlns=\"http://www.w3.org/2000/svg\" height=\"24px\" viewBox=\"0 -960 960 960\">\n",
              "    <path d=\"M120-120v-720h720v720H120Zm60-500h600v-160H180v160Zm220 220h160v-160H400v160Zm0 220h160v-160H400v160ZM180-400h160v-160H180v160Zm440 0h160v-160H620v160ZM180-180h160v-160H180v160Zm440 0h160v-160H620v160Z\"/>\n",
              "  </svg>\n",
              "    </button>\n",
              "\n",
              "  <style>\n",
              "    .colab-df-container {\n",
              "      display:flex;\n",
              "      gap: 12px;\n",
              "    }\n",
              "\n",
              "    .colab-df-convert {\n",
              "      background-color: #E8F0FE;\n",
              "      border: none;\n",
              "      border-radius: 50%;\n",
              "      cursor: pointer;\n",
              "      display: none;\n",
              "      fill: #1967D2;\n",
              "      height: 32px;\n",
              "      padding: 0 0 0 0;\n",
              "      width: 32px;\n",
              "    }\n",
              "\n",
              "    .colab-df-convert:hover {\n",
              "      background-color: #E2EBFA;\n",
              "      box-shadow: 0px 1px 2px rgba(60, 64, 67, 0.3), 0px 1px 3px 1px rgba(60, 64, 67, 0.15);\n",
              "      fill: #174EA6;\n",
              "    }\n",
              "\n",
              "    .colab-df-buttons div {\n",
              "      margin-bottom: 4px;\n",
              "    }\n",
              "\n",
              "    [theme=dark] .colab-df-convert {\n",
              "      background-color: #3B4455;\n",
              "      fill: #D2E3FC;\n",
              "    }\n",
              "\n",
              "    [theme=dark] .colab-df-convert:hover {\n",
              "      background-color: #434B5C;\n",
              "      box-shadow: 0px 1px 3px 1px rgba(0, 0, 0, 0.15);\n",
              "      filter: drop-shadow(0px 1px 2px rgba(0, 0, 0, 0.3));\n",
              "      fill: #FFFFFF;\n",
              "    }\n",
              "  </style>\n",
              "\n",
              "    <script>\n",
              "      const buttonEl =\n",
              "        document.querySelector('#df-fccc7bcd-3e1d-4adf-9176-d7b8b4d39113 button.colab-df-convert');\n",
              "      buttonEl.style.display =\n",
              "        google.colab.kernel.accessAllowed ? 'block' : 'none';\n",
              "\n",
              "      async function convertToInteractive(key) {\n",
              "        const element = document.querySelector('#df-fccc7bcd-3e1d-4adf-9176-d7b8b4d39113');\n",
              "        const dataTable =\n",
              "          await google.colab.kernel.invokeFunction('convertToInteractive',\n",
              "                                                    [key], {});\n",
              "        if (!dataTable) return;\n",
              "\n",
              "        const docLinkHtml = 'Like what you see? Visit the ' +\n",
              "          '<a target=\"_blank\" href=https://colab.research.google.com/notebooks/data_table.ipynb>data table notebook</a>'\n",
              "          + ' to learn more about interactive tables.';\n",
              "        element.innerHTML = '';\n",
              "        dataTable['output_type'] = 'display_data';\n",
              "        await google.colab.output.renderOutput(dataTable, element);\n",
              "        const docLink = document.createElement('div');\n",
              "        docLink.innerHTML = docLinkHtml;\n",
              "        element.appendChild(docLink);\n",
              "      }\n",
              "    </script>\n",
              "  </div>\n",
              "\n",
              "\n",
              "<div id=\"df-82cdc190-9c16-4bcf-bd83-2bf8d8af7be7\">\n",
              "  <button class=\"colab-df-quickchart\" onclick=\"quickchart('df-82cdc190-9c16-4bcf-bd83-2bf8d8af7be7')\"\n",
              "            title=\"Suggest charts\"\n",
              "            style=\"display:none;\">\n",
              "\n",
              "<svg xmlns=\"http://www.w3.org/2000/svg\" height=\"24px\"viewBox=\"0 0 24 24\"\n",
              "     width=\"24px\">\n",
              "    <g>\n",
              "        <path d=\"M19 3H5c-1.1 0-2 .9-2 2v14c0 1.1.9 2 2 2h14c1.1 0 2-.9 2-2V5c0-1.1-.9-2-2-2zM9 17H7v-7h2v7zm4 0h-2V7h2v10zm4 0h-2v-4h2v4z\"/>\n",
              "    </g>\n",
              "</svg>\n",
              "  </button>\n",
              "\n",
              "<style>\n",
              "  .colab-df-quickchart {\n",
              "      --bg-color: #E8F0FE;\n",
              "      --fill-color: #1967D2;\n",
              "      --hover-bg-color: #E2EBFA;\n",
              "      --hover-fill-color: #174EA6;\n",
              "      --disabled-fill-color: #AAA;\n",
              "      --disabled-bg-color: #DDD;\n",
              "  }\n",
              "\n",
              "  [theme=dark] .colab-df-quickchart {\n",
              "      --bg-color: #3B4455;\n",
              "      --fill-color: #D2E3FC;\n",
              "      --hover-bg-color: #434B5C;\n",
              "      --hover-fill-color: #FFFFFF;\n",
              "      --disabled-bg-color: #3B4455;\n",
              "      --disabled-fill-color: #666;\n",
              "  }\n",
              "\n",
              "  .colab-df-quickchart {\n",
              "    background-color: var(--bg-color);\n",
              "    border: none;\n",
              "    border-radius: 50%;\n",
              "    cursor: pointer;\n",
              "    display: none;\n",
              "    fill: var(--fill-color);\n",
              "    height: 32px;\n",
              "    padding: 0;\n",
              "    width: 32px;\n",
              "  }\n",
              "\n",
              "  .colab-df-quickchart:hover {\n",
              "    background-color: var(--hover-bg-color);\n",
              "    box-shadow: 0 1px 2px rgba(60, 64, 67, 0.3), 0 1px 3px 1px rgba(60, 64, 67, 0.15);\n",
              "    fill: var(--button-hover-fill-color);\n",
              "  }\n",
              "\n",
              "  .colab-df-quickchart-complete:disabled,\n",
              "  .colab-df-quickchart-complete:disabled:hover {\n",
              "    background-color: var(--disabled-bg-color);\n",
              "    fill: var(--disabled-fill-color);\n",
              "    box-shadow: none;\n",
              "  }\n",
              "\n",
              "  .colab-df-spinner {\n",
              "    border: 2px solid var(--fill-color);\n",
              "    border-color: transparent;\n",
              "    border-bottom-color: var(--fill-color);\n",
              "    animation:\n",
              "      spin 1s steps(1) infinite;\n",
              "  }\n",
              "\n",
              "  @keyframes spin {\n",
              "    0% {\n",
              "      border-color: transparent;\n",
              "      border-bottom-color: var(--fill-color);\n",
              "      border-left-color: var(--fill-color);\n",
              "    }\n",
              "    20% {\n",
              "      border-color: transparent;\n",
              "      border-left-color: var(--fill-color);\n",
              "      border-top-color: var(--fill-color);\n",
              "    }\n",
              "    30% {\n",
              "      border-color: transparent;\n",
              "      border-left-color: var(--fill-color);\n",
              "      border-top-color: var(--fill-color);\n",
              "      border-right-color: var(--fill-color);\n",
              "    }\n",
              "    40% {\n",
              "      border-color: transparent;\n",
              "      border-right-color: var(--fill-color);\n",
              "      border-top-color: var(--fill-color);\n",
              "    }\n",
              "    60% {\n",
              "      border-color: transparent;\n",
              "      border-right-color: var(--fill-color);\n",
              "    }\n",
              "    80% {\n",
              "      border-color: transparent;\n",
              "      border-right-color: var(--fill-color);\n",
              "      border-bottom-color: var(--fill-color);\n",
              "    }\n",
              "    90% {\n",
              "      border-color: transparent;\n",
              "      border-bottom-color: var(--fill-color);\n",
              "    }\n",
              "  }\n",
              "</style>\n",
              "\n",
              "  <script>\n",
              "    async function quickchart(key) {\n",
              "      const quickchartButtonEl =\n",
              "        document.querySelector('#' + key + ' button');\n",
              "      quickchartButtonEl.disabled = true;  // To prevent multiple clicks.\n",
              "      quickchartButtonEl.classList.add('colab-df-spinner');\n",
              "      try {\n",
              "        const charts = await google.colab.kernel.invokeFunction(\n",
              "            'suggestCharts', [key], {});\n",
              "      } catch (error) {\n",
              "        console.error('Error during call to suggestCharts:', error);\n",
              "      }\n",
              "      quickchartButtonEl.classList.remove('colab-df-spinner');\n",
              "      quickchartButtonEl.classList.add('colab-df-quickchart-complete');\n",
              "    }\n",
              "    (() => {\n",
              "      let quickchartButtonEl =\n",
              "        document.querySelector('#df-82cdc190-9c16-4bcf-bd83-2bf8d8af7be7 button');\n",
              "      quickchartButtonEl.style.display =\n",
              "        google.colab.kernel.accessAllowed ? 'block' : 'none';\n",
              "    })();\n",
              "  </script>\n",
              "</div>\n",
              "\n",
              "  <div id=\"id_2d7ba173-b5b3-4790-bd88-5778c39df88a\">\n",
              "    <style>\n",
              "      .colab-df-generate {\n",
              "        background-color: #E8F0FE;\n",
              "        border: none;\n",
              "        border-radius: 50%;\n",
              "        cursor: pointer;\n",
              "        display: none;\n",
              "        fill: #1967D2;\n",
              "        height: 32px;\n",
              "        padding: 0 0 0 0;\n",
              "        width: 32px;\n",
              "      }\n",
              "\n",
              "      .colab-df-generate:hover {\n",
              "        background-color: #E2EBFA;\n",
              "        box-shadow: 0px 1px 2px rgba(60, 64, 67, 0.3), 0px 1px 3px 1px rgba(60, 64, 67, 0.15);\n",
              "        fill: #174EA6;\n",
              "      }\n",
              "\n",
              "      [theme=dark] .colab-df-generate {\n",
              "        background-color: #3B4455;\n",
              "        fill: #D2E3FC;\n",
              "      }\n",
              "\n",
              "      [theme=dark] .colab-df-generate:hover {\n",
              "        background-color: #434B5C;\n",
              "        box-shadow: 0px 1px 3px 1px rgba(0, 0, 0, 0.15);\n",
              "        filter: drop-shadow(0px 1px 2px rgba(0, 0, 0, 0.3));\n",
              "        fill: #FFFFFF;\n",
              "      }\n",
              "    </style>\n",
              "    <button class=\"colab-df-generate\" onclick=\"generateWithVariable('data')\"\n",
              "            title=\"Generate code using this dataframe.\"\n",
              "            style=\"display:none;\">\n",
              "\n",
              "  <svg xmlns=\"http://www.w3.org/2000/svg\" height=\"24px\"viewBox=\"0 0 24 24\"\n",
              "       width=\"24px\">\n",
              "    <path d=\"M7,19H8.4L18.45,9,17,7.55,7,17.6ZM5,21V16.75L18.45,3.32a2,2,0,0,1,2.83,0l1.4,1.43a1.91,1.91,0,0,1,.58,1.4,1.91,1.91,0,0,1-.58,1.4L9.25,21ZM18.45,9,17,7.55Zm-12,3A5.31,5.31,0,0,0,4.9,8.1,5.31,5.31,0,0,0,1,6.5,5.31,5.31,0,0,0,4.9,4.9,5.31,5.31,0,0,0,6.5,1,5.31,5.31,0,0,0,8.1,4.9,5.31,5.31,0,0,0,12,6.5,5.46,5.46,0,0,0,6.5,12Z\"/>\n",
              "  </svg>\n",
              "    </button>\n",
              "    <script>\n",
              "      (() => {\n",
              "      const buttonEl =\n",
              "        document.querySelector('#id_2d7ba173-b5b3-4790-bd88-5778c39df88a button.colab-df-generate');\n",
              "      buttonEl.style.display =\n",
              "        google.colab.kernel.accessAllowed ? 'block' : 'none';\n",
              "\n",
              "      buttonEl.onclick = () => {\n",
              "        google.colab.notebook.generateWithVariable('data');\n",
              "      }\n",
              "      })();\n",
              "    </script>\n",
              "  </div>\n",
              "\n",
              "    </div>\n",
              "  </div>\n"
            ],
            "application/vnd.google.colaboratory.intrinsic+json": {
              "type": "dataframe",
              "variable_name": "data"
            }
          },
          "metadata": {},
          "execution_count": 152
        }
      ]
    },
    {
      "cell_type": "code",
      "source": [
        "data.shape"
      ],
      "metadata": {
        "colab": {
          "base_uri": "https://localhost:8080/"
        },
        "id": "J4FcL1yQp9hH",
        "outputId": "85f4abec-cf07-42b3-e0ca-01370145105f"
      },
      "execution_count": 153,
      "outputs": [
        {
          "output_type": "execute_result",
          "data": {
            "text/plain": [
              "(42000, 785)"
            ]
          },
          "metadata": {},
          "execution_count": 153
        }
      ]
    },
    {
      "cell_type": "code",
      "source": [
        "data = np.array(data)  #Converting DataFrame to NumPy Array\n",
        "m, n = data.shape\n",
        "np.random.shuffle(data) # shuffle before splitting into dev and training sets\n",
        "\n",
        "#Split data into validation and training dataset\n",
        "\n",
        "# validation\n",
        "data_vali = data[0:1000].T   #first 1000 samples or rows then T\n",
        "Y_vali = data_vali[0]        # first row after T (labels)\n",
        "X_vali = data_vali[1:n]      # all rows except first one after T (features/values)\n",
        "X_vali = X_vali / 255.       # normalize the features btw 0 to 255\n",
        "\n",
        "\n",
        "# training\n",
        "data_train = data[1000:m].T  # remaining samples after first 1000 sample\n",
        "Y_train = data_train[0]       # (labels) first row\n",
        "X_train = data_train[1:n]\n",
        "X_train = X_train / 255.\n",
        "_,m_train = X_train.shape"
      ],
      "metadata": {
        "id": "e925WuJY3Z6_"
      },
      "execution_count": 154,
      "outputs": []
    },
    {
      "cell_type": "code",
      "source": [
        "#target labels\n",
        "Y_train\n"
      ],
      "metadata": {
        "colab": {
          "base_uri": "https://localhost:8080/"
        },
        "id": "8HC9xJVPrOkb",
        "outputId": "1a2f2b50-6d5c-4a63-b260-524c0839ac41"
      },
      "execution_count": 155,
      "outputs": [
        {
          "output_type": "execute_result",
          "data": {
            "text/plain": [
              "array([2, 5, 1, ..., 9, 9, 5])"
            ]
          },
          "metadata": {},
          "execution_count": 155
        }
      ]
    },
    {
      "cell_type": "code",
      "source": [
        "#Initialization of Parameters\n",
        "def init_params():\n",
        "    W1 = np.random.rand(10, 784) - 0.5\n",
        "    b1 = np.random.rand(10, 1) - 0.5\n",
        "    W2 = np.random.rand(10, 10) - 0.5\n",
        "    b2 = np.random.rand(10, 1) - 0.5\n",
        "    return W1, b1, W2, b2"
      ],
      "metadata": {
        "id": "_Gerx8qdtQ7f"
      },
      "execution_count": 156,
      "outputs": []
    },
    {
      "cell_type": "code",
      "source": [
        "#Activation Functions\n",
        "def ReLU(Z):\n",
        "    return np.maximum(Z, 0)  # x>=0 =x,   x<0 = 0\n",
        "\n",
        "def softmax(Z):\n",
        "    A = np.exp(Z) / sum(np.exp(Z))  # probablities in range 0 to 1\n",
        "    return A"
      ],
      "metadata": {
        "id": "e7rX4GjktjFI"
      },
      "execution_count": 157,
      "outputs": []
    },
    {
      "cell_type": "code",
      "source": [
        "#Forward Propagation\n",
        "# Z1 is the input to the ReLU activation function for the first layer.\n",
        "# A1 is the output of the ReLU activation (i.e., the activations for the first layer).\n",
        "# Z2 is the input to the softmax activation function for the second layer.\n",
        "# A2 is the final output of the network, representing the predicted class probabilities.\n",
        "\n",
        "def forward_prop(W1, b1, W2, b2, X):\n",
        "    Z1 = W1.dot(X) + b1\n",
        "    A1 = ReLU(Z1)\n",
        "    Z2 = W2.dot(A1) + b2\n",
        "    A2 = softmax(Z2)\n",
        "    return Z1, A1, Z2, A2"
      ],
      "metadata": {
        "id": "VLxb5SkduViT"
      },
      "execution_count": 158,
      "outputs": []
    },
    {
      "cell_type": "code",
      "source": [
        "# ReLU Derivative\n",
        "# derivative of ReLU is 1 for positive values in Z and 0 otherwise.\n",
        "# This is used during backpropagation to calculate gradients\n",
        "def ReLU_deriv(Z):\n",
        "    return Z > 0"
      ],
      "metadata": {
        "id": "5HSsgI02ueHr"
      },
      "execution_count": 159,
      "outputs": []
    },
    {
      "cell_type": "code",
      "source": [
        "#One-Hot Encoding\n",
        "\n",
        "def one_hot(Y):\n",
        "    one_hot_Y = np.zeros((Y.size, Y.max() + 1))  # Create a Zero Matrix number of samples/labes  and classes\n",
        "    one_hot_Y[np.arange(Y.size), Y] = 1          # assign 1 to correct possition\n",
        "    one_hot_Y = one_hot_Y.T                      #Transpose the Matrix  class to X axis or labels/samples to yaxis after T\n",
        "    return one_hot_Y"
      ],
      "metadata": {
        "id": "c6xNwe5uuzDU"
      },
      "execution_count": 160,
      "outputs": []
    },
    {
      "cell_type": "code",
      "source": [
        "# #Backward Propagation\n",
        "# dZ2 is the error for the output layer.\n",
        "# dW2 and db2 are the gradients of the loss function with respect to the weights and biases of the output layer.\n",
        "# dZ1 is the error term for the hidden layer, computed by backpropagating the error from the output layer.\n",
        "# dW1 and db1 are the gradients of the loss function with respect to the weights and biases of the hidden layer.\n",
        "# X is input\n",
        "# Y is actual output labels\n",
        "\n",
        "def backward_prop(Z1, A1, Z2, A2, W1, W2, X, Y):\n",
        "    one_hot_Y = one_hot(Y)\n",
        "    dZ2 = A2 - one_hot_Y\n",
        "    dW2 = 1 / m * dZ2.dot(A1.T)\n",
        "    db2 = 1 / m * np.sum(dZ2)\n",
        "    dZ1 = W2.T.dot(dZ2) * ReLU_deriv(Z1)\n",
        "    dW1 = 1 / m * dZ1.dot(X.T)\n",
        "    db1 = 1 / m * np.sum(dZ1)\n",
        "    return dW1, db1, dW2, db2"
      ],
      "metadata": {
        "id": "fJYZZoLcvxSq"
      },
      "execution_count": 161,
      "outputs": []
    },
    {
      "cell_type": "code",
      "source": [
        "# Updating Parameters\n",
        "\n",
        "def update_params(W1, b1, W2, b2, dW1, db1, dW2, db2, alpha):\n",
        "    W1 = W1 - alpha * dW1\n",
        "    b1 = b1 - alpha * db1\n",
        "    W2 = W2 - alpha * dW2\n",
        "    b2 = b2 - alpha * db2\n",
        "    return W1, b1, W2, b2\n",
        "\n"
      ],
      "metadata": {
        "id": "9CoOpusFsGWY"
      },
      "execution_count": 162,
      "outputs": []
    },
    {
      "cell_type": "code",
      "source": [
        "# Prediction Function\n",
        "def get_predictions(A2):\n",
        "    return np.argmax(A2, 0)  #returns the index of the highest value in each column (since the second argument is 0), which corresponds to the predicted class."
      ],
      "metadata": {
        "id": "HoIiRWkNuxo_"
      },
      "execution_count": 163,
      "outputs": []
    },
    {
      "cell_type": "code",
      "source": [
        "# Accuracy Function\n",
        "def get_accuracy(predictions, Y):\n",
        "    print(predictions, Y)\n",
        "    return np.sum(predictions == Y) / Y.size"
      ],
      "metadata": {
        "id": "Fw3dIIQWxO6l"
      },
      "execution_count": 164,
      "outputs": []
    },
    {
      "cell_type": "code",
      "source": [
        "# Cross-Entropy Loss\n",
        "def compute_loss(A2, Y):\n",
        "    m = Y.size  # Number of training examples\n",
        "    one_hot_Y = one_hot(Y)  # Convert Y to one-hot encoded labels\n",
        "    loss = -np.sum(one_hot_Y * np.log(A2)) / m  # Cross-entropy loss\n",
        "    return loss"
      ],
      "metadata": {
        "id": "mi4Uzk7Zxduj"
      },
      "execution_count": 165,
      "outputs": []
    },
    {
      "cell_type": "code",
      "source": [
        "def gradient_descent(X, Y, alpha, iterations):\n",
        "    W1, b1, W2, b2 = init_params()  # Initialize parameters\n",
        "    for i in range(iterations):\n",
        "        Z1, A1, Z2, A2 = forward_prop(W1, b1, W2, b2, X)  # Forward propagation\n",
        "        dW1, db1, dW2, db2 = backward_prop(Z1, A1, Z2, A2, W1, W2, X, Y)  # Backpropagation\n",
        "        W1, b1, W2, b2 = update_params(W1, b1, W2, b2, dW1, db1, dW2, db2, alpha)  # Update parameters\n",
        "\n",
        "        if i % 10 == 0:\n",
        "            print(\"Iteration: \", i)\n",
        "            predictions = get_predictions(A2)  # Get predictions\n",
        "            accuracy = get_accuracy(predictions, Y)  # Compute accuracy\n",
        "            loss = compute_loss(A2, Y)  # Compute loss\n",
        "            print(f\"Accuracy: {accuracy * 100:.2f}% | Loss: {loss:.4f}\")\n",
        "\n",
        "    return W1, b1, W2, b2  # Return final parameters"
      ],
      "metadata": {
        "id": "XfYB8O_3yAeD"
      },
      "execution_count": 166,
      "outputs": []
    },
    {
      "cell_type": "code",
      "source": [
        "W1, b1, W2, b2 = gradient_descent(X_train, Y_train, 0.10, 500)"
      ],
      "metadata": {
        "colab": {
          "base_uri": "https://localhost:8080/"
        },
        "collapsed": true,
        "id": "9rfIkP9Qy3D2",
        "outputId": "d2de071c-4d0e-4e97-b4b2-69f3385a9a5d"
      },
      "execution_count": 168,
      "outputs": [
        {
          "output_type": "stream",
          "name": "stdout",
          "text": [
            "Iteration:  0\n",
            "[8 1 8 ... 6 4 7] [2 5 1 ... 9 9 5]\n",
            "Accuracy: 6.71% | Loss: 3.0942\n",
            "Iteration:  10\n",
            "[8 4 8 ... 6 4 7] [2 5 1 ... 9 9 5]\n",
            "Accuracy: 18.07% | Loss: 2.2580\n",
            "Iteration:  20\n",
            "[4 8 8 ... 6 4 7] [2 5 1 ... 9 9 5]\n",
            "Accuracy: 27.84% | Loss: 2.0221\n",
            "Iteration:  30\n",
            "[2 8 8 ... 7 9 0] [2 5 1 ... 9 9 5]\n",
            "Accuracy: 36.30% | Loss: 1.8452\n",
            "Iteration:  40\n",
            "[2 8 8 ... 7 9 0] [2 5 1 ... 9 9 5]\n",
            "Accuracy: 43.42% | Loss: 1.6721\n",
            "Iteration:  50\n",
            "[2 8 8 ... 7 9 0] [2 5 1 ... 9 9 5]\n",
            "Accuracy: 49.45% | Loss: 1.5046\n",
            "Iteration:  60\n",
            "[2 8 8 ... 7 9 3] [2 5 1 ... 9 9 5]\n",
            "Accuracy: 54.39% | Loss: 1.3596\n",
            "Iteration:  70\n",
            "[2 8 8 ... 4 9 3] [2 5 1 ... 9 9 5]\n",
            "Accuracy: 58.19% | Loss: 1.2432\n",
            "Iteration:  80\n",
            "[2 8 8 ... 4 9 3] [2 5 1 ... 9 9 5]\n",
            "Accuracy: 61.12% | Loss: 1.1517\n",
            "Iteration:  90\n",
            "[2 5 8 ... 4 9 3] [2 5 1 ... 9 9 5]\n",
            "Accuracy: 63.59% | Loss: 1.0791\n",
            "Iteration:  100\n",
            "[2 5 8 ... 4 9 3] [2 5 1 ... 9 9 5]\n",
            "Accuracy: 65.54% | Loss: 1.0200\n",
            "Iteration:  110\n",
            "[2 5 8 ... 4 9 3] [2 5 1 ... 9 9 5]\n",
            "Accuracy: 67.34% | Loss: 0.9708\n",
            "Iteration:  120\n",
            "[2 5 8 ... 4 9 3] [2 5 1 ... 9 9 5]\n",
            "Accuracy: 68.80% | Loss: 0.9288\n",
            "Iteration:  130\n",
            "[2 5 8 ... 4 9 3] [2 5 1 ... 9 9 5]\n",
            "Accuracy: 70.00% | Loss: 0.8921\n",
            "Iteration:  140\n",
            "[2 5 8 ... 4 9 3] [2 5 1 ... 9 9 5]\n",
            "Accuracy: 71.11% | Loss: 0.8595\n",
            "Iteration:  150\n",
            "[2 5 8 ... 4 9 3] [2 5 1 ... 9 9 5]\n",
            "Accuracy: 72.24% | Loss: 0.8304\n",
            "Iteration:  160\n",
            "[2 5 8 ... 4 9 3] [2 5 1 ... 9 9 5]\n",
            "Accuracy: 73.24% | Loss: 0.8043\n",
            "Iteration:  170\n",
            "[2 5 8 ... 4 9 3] [2 5 1 ... 9 9 5]\n",
            "Accuracy: 74.13% | Loss: 0.7807\n",
            "Iteration:  180\n",
            "[2 5 8 ... 7 9 3] [2 5 1 ... 9 9 5]\n",
            "Accuracy: 74.90% | Loss: 0.7594\n",
            "Iteration:  190\n",
            "[2 5 8 ... 7 9 3] [2 5 1 ... 9 9 5]\n",
            "Accuracy: 75.63% | Loss: 0.7400\n",
            "Iteration:  200\n",
            "[2 5 8 ... 7 9 3] [2 5 1 ... 9 9 5]\n",
            "Accuracy: 76.23% | Loss: 0.7224\n",
            "Iteration:  210\n",
            "[2 5 8 ... 7 9 3] [2 5 1 ... 9 9 5]\n",
            "Accuracy: 76.88% | Loss: 0.7063\n",
            "Iteration:  220\n",
            "[2 5 8 ... 7 9 3] [2 5 1 ... 9 9 5]\n",
            "Accuracy: 77.60% | Loss: 0.6917\n",
            "Iteration:  230\n",
            "[2 5 8 ... 7 9 3] [2 5 1 ... 9 9 5]\n",
            "Accuracy: 78.14% | Loss: 0.6784\n",
            "Iteration:  240\n",
            "[2 5 1 ... 7 9 3] [2 5 1 ... 9 9 5]\n",
            "Accuracy: 78.60% | Loss: 0.6661\n",
            "Iteration:  250\n",
            "[2 5 1 ... 7 9 3] [2 5 1 ... 9 9 5]\n",
            "Accuracy: 79.04% | Loss: 0.6548\n",
            "Iteration:  260\n",
            "[2 5 1 ... 7 9 3] [2 5 1 ... 9 9 5]\n",
            "Accuracy: 79.38% | Loss: 0.6444\n",
            "Iteration:  270\n",
            "[2 5 1 ... 7 9 3] [2 5 1 ... 9 9 5]\n",
            "Accuracy: 79.78% | Loss: 0.6348\n",
            "Iteration:  280\n",
            "[2 5 1 ... 7 9 3] [2 5 1 ... 9 9 5]\n",
            "Accuracy: 80.10% | Loss: 0.6258\n",
            "Iteration:  290\n",
            "[2 5 1 ... 7 9 3] [2 5 1 ... 9 9 5]\n",
            "Accuracy: 80.46% | Loss: 0.6175\n",
            "Iteration:  300\n",
            "[2 5 1 ... 7 9 3] [2 5 1 ... 9 9 5]\n",
            "Accuracy: 80.78% | Loss: 0.6096\n",
            "Iteration:  310\n",
            "[2 5 1 ... 7 9 3] [2 5 1 ... 9 9 5]\n",
            "Accuracy: 81.04% | Loss: 0.6022\n",
            "Iteration:  320\n",
            "[2 5 1 ... 7 9 3] [2 5 1 ... 9 9 5]\n",
            "Accuracy: 81.32% | Loss: 0.5953\n",
            "Iteration:  330\n",
            "[2 5 1 ... 7 9 3] [2 5 1 ... 9 9 5]\n",
            "Accuracy: 81.54% | Loss: 0.5887\n",
            "Iteration:  340\n",
            "[2 5 1 ... 7 9 3] [2 5 1 ... 9 9 5]\n",
            "Accuracy: 81.76% | Loss: 0.5825\n",
            "Iteration:  350\n",
            "[2 5 1 ... 7 9 3] [2 5 1 ... 9 9 5]\n",
            "Accuracy: 81.95% | Loss: 0.5766\n",
            "Iteration:  360\n",
            "[2 5 1 ... 7 9 3] [2 5 1 ... 9 9 5]\n",
            "Accuracy: 82.17% | Loss: 0.5709\n",
            "Iteration:  370\n",
            "[2 5 1 ... 7 9 3] [2 5 1 ... 9 9 5]\n",
            "Accuracy: 82.40% | Loss: 0.5655\n",
            "Iteration:  380\n",
            "[2 5 1 ... 7 9 3] [2 5 1 ... 9 9 5]\n",
            "Accuracy: 82.62% | Loss: 0.5604\n",
            "Iteration:  390\n",
            "[2 5 1 ... 7 9 3] [2 5 1 ... 9 9 5]\n",
            "Accuracy: 82.83% | Loss: 0.5555\n",
            "Iteration:  400\n",
            "[2 5 1 ... 7 9 3] [2 5 1 ... 9 9 5]\n",
            "Accuracy: 82.99% | Loss: 0.5507\n",
            "Iteration:  410\n",
            "[2 5 1 ... 7 9 3] [2 5 1 ... 9 9 5]\n",
            "Accuracy: 83.17% | Loss: 0.5462\n",
            "Iteration:  420\n",
            "[2 5 1 ... 7 9 3] [2 5 1 ... 9 9 5]\n",
            "Accuracy: 83.34% | Loss: 0.5418\n",
            "Iteration:  430\n",
            "[2 5 1 ... 7 9 3] [2 5 1 ... 9 9 5]\n",
            "Accuracy: 83.54% | Loss: 0.5376\n",
            "Iteration:  440\n",
            "[2 5 1 ... 7 9 3] [2 5 1 ... 9 9 5]\n",
            "Accuracy: 83.68% | Loss: 0.5335\n",
            "Iteration:  450\n",
            "[2 5 1 ... 7 9 3] [2 5 1 ... 9 9 5]\n",
            "Accuracy: 83.83% | Loss: 0.5296\n",
            "Iteration:  460\n",
            "[2 5 1 ... 7 9 3] [2 5 1 ... 9 9 5]\n",
            "Accuracy: 83.95% | Loss: 0.5258\n",
            "Iteration:  470\n",
            "[2 5 1 ... 7 9 3] [2 5 1 ... 9 9 5]\n",
            "Accuracy: 84.08% | Loss: 0.5222\n",
            "Iteration:  480\n",
            "[2 5 1 ... 7 9 3] [2 5 1 ... 9 9 5]\n",
            "Accuracy: 84.21% | Loss: 0.5186\n",
            "Iteration:  490\n",
            "[2 5 1 ... 7 9 3] [2 5 1 ... 9 9 5]\n",
            "Accuracy: 84.31% | Loss: 0.5151\n"
          ]
        }
      ]
    },
    {
      "cell_type": "code",
      "source": [
        "# make_predictions\n",
        "#function uses the trained model parameters to make predictions for a given input.\n",
        "def make_predictions(X, W1, b1, W2, b2):\n",
        "    _, _, _, A2 = forward_prop(W1, b1, W2, b2, X)\n",
        "    predictions = get_predictions(A2)\n",
        "    return predictions"
      ],
      "metadata": {
        "id": "GgbdowU35tl0"
      },
      "execution_count": 171,
      "outputs": []
    },
    {
      "cell_type": "code",
      "source": [
        "# test_prediction\n",
        "def test_prediction(index, W1, b1, W2, b2):\n",
        "    current_image = X_train[:, index, None] #extracts the index-th image & column from x train then reshape to 2D array.\n",
        "    prediction = make_predictions(X_train[:, index, None], W1, b1, W2, b2)  # predict using Neural Network\n",
        "    label = Y_train[index] #Compare Prediction to True Label\n",
        "    print(\"Prediction: \", prediction)\n",
        "    print(\"Label: \", label)\n",
        "\n",
        "    current_image = current_image.reshape((28, 28)) * 255\n",
        "    plt.gray()\n",
        "    plt.imshow(current_image, interpolation='nearest')\n",
        "    plt.show()"
      ],
      "metadata": {
        "id": "fKkDLhke6lyX"
      },
      "execution_count": 172,
      "outputs": []
    },
    {
      "cell_type": "code",
      "source": [
        "# Test prediction on individual img\n",
        "test_prediction(10, W1, b1, W2, b2)\n",
        "test_prediction(1, W1, b1, W2, b2)\n",
        "test_prediction(2, W1, b1, W2, b2)\n",
        "test_prediction(3, W1, b1, W2, b2)\n",
        "test_prediction(6, W1, b1, W2, b2)\n",
        "test_prediction(23, W1, b1, W2, b2)\n",
        "test_prediction(33, W1, b1, W2, b2)"
      ],
      "metadata": {
        "colab": {
          "base_uri": "https://localhost:8080/",
          "height": 1000
        },
        "id": "4Y19fjvrBwBY",
        "outputId": "5db8fea3-a3b4-4d88-fb8f-028cde029dd5"
      },
      "execution_count": 175,
      "outputs": [
        {
          "output_type": "stream",
          "name": "stdout",
          "text": [
            "Prediction:  [9]\n",
            "Label:  9\n"
          ]
        },
        {
          "output_type": "display_data",
          "data": {
            "text/plain": [
              "<Figure size 640x480 with 1 Axes>"
            ],
            "image/png": "[encoded data removed]"
          },
          "metadata": {}
        },
        {
          "output_type": "stream",
          "name": "stdout",
          "text": [
            "Prediction:  [5]\n",
            "Label:  5\n"
          ]
        },
        {
          "output_type": "display_data",
          "data": {
            "text/plain": [
              "<Figure size 640x480 with 1 Axes>"
            ],
            "image/png": "[encoded data removed]"
          },
          "metadata": {}
        },
        {
          "output_type": "stream",
          "name": "stdout",
          "text": [
            "Prediction:  [1]\n",
            "Label:  1\n"
          ]
        },
        {
          "output_type": "display_data",
          "data": {
            "text/plain": [
              "<Figure size 640x480 with 1 Axes>"
            ],
            "image/png": "[encoded data removed]"
          },
          "metadata": {}
        },
        {
          "output_type": "stream",
          "name": "stdout",
          "text": [
            "Prediction:  [4]\n",
            "Label:  9\n"
          ]
        },
        {
          "output_type": "display_data",
          "data": {
            "text/plain": [
              "<Figure size 640x480 with 1 Axes>"
            ],
            "image/png": "[encoded data removed]"
          },
          "metadata": {}
        },
        {
          "output_type": "stream",
          "name": "stdout",
          "text": [
            "Prediction:  [8]\n",
            "Label:  8\n"
          ]
        },
        {
          "output_type": "display_data",
          "data": {
            "text/plain": [
              "<Figure size 640x480 with 1 Axes>"
            ],
            "image/png": "[encoded data removed]"
          },
          "metadata": {}
        },
        {
          "output_type": "stream",
          "name": "stdout",
          "text": [
            "Prediction:  [3]\n",
            "Label:  9\n"
          ]
        },
        {
          "output_type": "display_data",
          "data": {
            "text/plain": [
              "<Figure size 640x480 with 1 Axes>"
            ],
            "image/png": "[encoded data removed]"
          },
          "metadata": {}
        },
        {
          "output_type": "stream",
          "name": "stdout",
          "text": [
            "Prediction:  [5]\n",
            "Label:  5\n"
          ]
        },
        {
          "output_type": "display_data",
          "data": {
            "text/plain": [
              "<Figure size 640x480 with 1 Axes>"
            ],
            "image/png": "[encoded data removed]"
          },
          "metadata": {}
        }
      ]
    },
    {
      "cell_type": "code",
      "source": [
        "# test on validation dataset\n",
        "\n",
        "dev_predictions = make_predictions(X_vali, W1, b1, W2, b2)\n",
        "get_accuracy(dev_predictions, Y_vali)"
      ],
      "metadata": {
        "colab": {
          "base_uri": "https://localhost:8080/"
        },
        "id": "EXx1szJZB5W6",
        "outputId": "f29be186-dfec-42a2-ac4a-44b6645218c5"
      },
      "execution_count": 177,
      "outputs": [
        {
          "output_type": "stream",
          "name": "stdout",
          "text": [
            "[6 8 2 4 1 0 8 2 1 1 5 4 3 6 6 1 0 9 9 0 4 1 7 0 9 4 2 6 8 3 0 3 9 1 0 5 9\n",
            " 2 1 2 0 5 4 3 2 7 5 3 0 8 7 7 0 7 5 7 5 1 1 8 3 9 9 5 1 3 3 5 7 3 9 6 7 6\n",
            " 9 7 2 0 8 7 9 1 3 8 5 5 6 9 6 4 6 7 5 3 2 9 1 1 2 9 9 4 7 2 1 0 2 9 2 6 1\n",
            " 1 7 0 1 7 1 0 0 5 9 4 9 1 3 3 4 2 2 2 0 9 2 1 9 6 9 1 1 4 2 4 4 3 5 3 9 3\n",
            " 4 0 3 9 7 4 8 1 7 9 9 0 5 9 9 4 4 3 6 5 1 8 5 6 4 1 8 3 6 3 5 0 8 2 9 6 6\n",
            " 3 0 9 9 5 4 6 9 7 2 1 6 3 8 2 5 8 4 1 2 4 1 7 8 3 8 8 7 1 3 1 6 8 4 0 4 3\n",
            " 6 0 0 1 6 2 7 6 4 4 3 6 7 8 6 2 8 3 7 2 9 0 2 8 8 8 6 0 1 1 7 7 5 2 5 2 2\n",
            " 6 9 6 2 6 5 0 5 6 5 1 2 3 7 6 8 5 9 6 7 2 7 3 9 7 1 5 1 4 2 0 8 8 1 0 5 4\n",
            " 2 3 2 4 7 9 1 0 5 7 2 8 3 5 2 4 4 7 3 9 1 2 8 2 1 7 7 4 3 1 7 7 5 6 3 6 1\n",
            " 9 0 7 7 6 7 0 5 2 4 8 0 7 6 3 9 8 3 2 3 4 9 9 2 0 3 4 8 6 2 6 1 4 9 8 7 7\n",
            " 1 7 7 8 7 0 0 1 2 2 1 2 2 1 7 9 8 5 6 4 7 3 1 7 5 5 3 1 1 9 4 1 4 1 7 0 2\n",
            " 3 7 1 6 4 9 3 3 4 9 9 1 8 9 6 9 1 9 6 8 8 1 9 5 2 6 9 2 3 1 3 0 1 0 6 3 4\n",
            " 5 8 0 2 4 1 7 6 6 2 4 1 5 5 0 8 8 6 9 5 7 5 4 0 7 0 1 4 7 9 3 0 1 0 6 0 0\n",
            " 4 0 9 2 9 7 5 2 0 3 5 9 2 5 7 2 1 8 7 3 7 1 3 7 1 1 8 4 7 7 3 8 5 2 6 4 3\n",
            " 3 4 6 3 5 9 0 0 4 7 2 4 9 8 6 8 2 1 8 1 9 9 4 4 1 6 4 0 8 0 0 7 4 6 6 8 4\n",
            " 2 2 0 1 5 4 1 2 2 2 4 5 2 4 8 9 2 0 3 7 4 4 6 9 7 8 3 9 3 1 7 9 2 3 7 6 7\n",
            " 0 3 0 5 9 9 5 3 2 3 5 1 7 4 4 2 4 3 6 7 0 5 6 7 9 6 2 9 3 1 1 9 5 0 4 6 1\n",
            " 7 8 0 4 9 7 6 3 1 6 4 4 7 2 5 7 9 2 4 4 3 4 8 5 9 3 0 6 8 3 0 9 7 6 4 5 4\n",
            " 3 8 1 4 0 2 4 0 4 4 8 1 9 4 4 1 1 8 4 4 4 1 2 9 4 7 2 2 3 9 1 8 1 0 4 9 8\n",
            " 7 6 6 5 9 0 5 6 4 2 5 8 0 6 0 7 8 7 7 5 9 2 6 2 9 3 2 7 9 4 2 5 0 1 9 5 0\n",
            " 3 7 6 5 0 9 9 0 8 3 1 4 2 2 4 0 5 5 1 9 6 9 7 0 9 1 8 5 2 8 2 9 0 2 5 6 3\n",
            " 5 0 1 7 2 1 1 9 7 9 7 1 8 4 0 9 9 5 8 5 7 9 1 2 1 7 8 8 8 5 9 0 3 0 9 1 5\n",
            " 5 9 8 3 3 3 1 1 7 3 7 7 2 5 5 6 0 7 5 8 7 4 0 4 0 4 3 4 7 8 5 0 7 5 4 4 6\n",
            " 0 7 0 6 6 3 1 6 4 7 1 9 4 7 6 9 8 7 3 8 0 9 1 1 1 3 2 7 2 1 8 5 0 9 8 0 8\n",
            " 4 5 1 7 7 4 8 8 1 3 4 5 4 1 5 9 1 1 5 7 8 9 0 1 1 7 1 2 6 7 1 5 3 9 2 4 2\n",
            " 9 0 9 0 9 8 7 7 9 2 2 2 8 6 8 2 4 7 3 4 5 1 2 7 6 6 8 3 1 5 1 2 6 8 8 5 9\n",
            " 6 8 6 1 3 3 9 6 8 0 5 3 8 8 4 1 0 8 6 2 7 1 3 1 5 4 9 0 2 2 3 2 8 0 0 4 6\n",
            " 9] [6 5 2 4 1 0 8 2 1 1 5 4 3 6 6 1 0 9 9 0 4 1 7 5 9 4 2 2 5 3 0 3 9 1 0 0 9\n",
            " 2 1 2 0 5 4 3 2 7 8 3 0 8 7 7 0 7 5 7 5 1 1 5 8 9 9 8 1 3 3 8 7 5 9 6 7 6\n",
            " 9 7 2 0 6 3 9 1 3 8 5 6 6 7 6 4 6 7 5 3 2 9 2 1 2 9 9 4 7 2 1 0 4 7 7 5 1\n",
            " 1 9 0 1 7 1 0 0 5 9 9 9 3 3 3 4 2 2 3 0 9 2 1 4 6 9 1 1 4 5 4 4 8 6 3 4 3\n",
            " 4 0 3 7 7 4 8 1 7 9 8 0 8 9 4 4 4 3 6 5 1 8 5 6 4 1 8 3 6 3 5 0 8 9 9 6 6\n",
            " 8 0 9 9 5 4 6 7 7 3 1 5 3 8 2 5 8 9 1 2 4 1 7 8 5 8 8 7 1 3 1 6 8 7 0 4 3\n",
            " 6 0 0 1 6 2 7 2 9 4 8 6 7 8 2 2 8 3 7 2 9 0 2 5 3 5 6 0 1 1 7 7 5 2 5 2 2\n",
            " 6 7 6 2 6 5 0 8 6 5 1 5 3 7 2 8 5 7 6 8 2 7 3 7 9 1 5 1 9 2 0 5 3 1 0 5 4\n",
            " 2 3 3 4 7 4 1 0 0 7 2 8 5 5 2 4 4 7 3 9 1 3 9 2 1 7 7 4 8 1 7 7 5 6 2 8 1\n",
            " 9 0 7 7 6 7 5 5 8 2 7 0 7 6 3 9 8 3 2 3 4 9 9 2 0 5 9 8 6 2 6 1 4 2 8 7 7\n",
            " 1 7 7 8 7 0 0 1 2 4 1 2 2 1 7 9 8 5 6 4 7 3 1 7 5 5 3 1 1 9 4 4 4 1 7 5 2\n",
            " 3 7 1 4 4 9 3 3 4 9 9 1 8 4 6 9 1 9 6 8 5 1 7 5 2 6 4 2 3 4 8 0 1 0 6 3 4\n",
            " 3 8 0 2 4 1 7 6 2 2 9 1 5 5 0 8 8 6 9 5 7 5 4 0 7 0 1 4 7 7 3 0 1 0 6 0 0\n",
            " 4 0 7 2 9 7 5 2 0 5 5 9 2 3 7 2 1 2 7 3 7 1 3 7 1 1 8 4 7 7 2 8 5 2 6 4 3\n",
            " 3 4 6 3 5 9 0 2 4 7 2 4 4 8 6 8 2 1 8 1 9 9 4 4 1 6 4 0 8 0 0 9 4 6 6 8 4\n",
            " 3 2 0 1 5 4 1 2 2 2 4 8 3 9 8 9 2 0 3 7 4 6 6 4 7 8 3 9 3 1 7 9 2 3 9 6 7\n",
            " 0 3 0 5 7 8 0 3 2 3 5 1 7 4 4 2 6 3 6 7 0 3 6 9 9 6 2 9 3 5 1 4 5 2 4 6 1\n",
            " 7 8 0 4 4 7 6 3 1 4 4 4 7 3 5 7 4 2 9 4 3 4 8 5 4 2 0 6 8 3 0 9 7 6 4 5 4\n",
            " 3 0 1 5 0 3 4 0 9 4 8 1 9 4 4 1 1 8 4 4 4 1 2 9 4 7 2 2 3 9 1 8 1 0 4 9 5\n",
            " 7 6 6 5 3 0 5 6 4 2 5 9 0 6 0 7 8 7 7 5 9 6 6 2 4 3 2 9 9 9 2 5 0 1 9 5 0\n",
            " 3 7 6 5 0 9 9 0 5 3 1 4 2 6 9 0 5 5 1 9 6 9 7 0 9 1 4 0 2 1 2 9 9 3 8 6 2\n",
            " 5 0 1 3 2 1 3 9 7 9 7 1 5 4 0 9 9 5 8 5 9 9 7 2 1 7 8 8 5 5 9 0 3 0 9 1 8\n",
            " 5 9 8 8 3 3 1 2 7 5 7 7 2 8 5 6 0 7 5 8 7 4 0 4 0 4 3 4 7 3 5 0 7 5 4 4 6\n",
            " 0 7 0 6 6 3 1 6 4 7 1 9 4 7 6 9 8 7 3 8 9 9 1 1 1 3 2 7 2 1 8 3 0 9 8 0 8\n",
            " 4 5 1 7 7 4 5 8 1 3 9 5 4 1 6 9 1 1 3 7 8 2 0 1 1 7 1 2 6 7 1 7 3 4 2 4 2\n",
            " 9 0 7 0 9 8 7 7 9 2 2 2 8 6 8 2 4 7 3 4 5 1 2 7 6 6 8 3 1 5 1 2 6 2 8 5 9\n",
            " 6 8 6 1 3 3 9 6 8 0 5 3 3 8 9 1 0 5 6 2 7 1 2 1 3 4 9 0 2 2 3 2 8 0 0 4 6\n",
            " 9]\n"
          ]
        },
        {
          "output_type": "execute_result",
          "data": {
            "text/plain": [
              "0.831"
            ]
          },
          "metadata": {},
          "execution_count": 177
        }
      ]
    },
    {
      "cell_type": "code",
      "source": [],
      "metadata": {
        "id": "AZnUkHNtCoVx"
      },
      "execution_count": null,
      "outputs": []
    }
  ]
}